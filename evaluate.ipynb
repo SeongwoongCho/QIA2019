{
 "cells": [
  {
   "cell_type": "code",
   "execution_count": 1,
   "metadata": {},
   "outputs": [],
   "source": [
    "import numpy as np\n",
    "import os\n",
    "\n",
    "import multiprocessing as mp\n",
    "import librosa\n",
    "import csv\n",
    "\n",
    "import torch\n",
    "import torch.nn as nn\n",
    "import torch.nn.functional as F\n",
    "from dataloader import Dataset\n",
    "from utils import *\n",
    "from efficientnet_pytorch import EfficientNet\n",
    "from tqdm import tqdm, tqdm_notebook\n",
    "from sklearn.metrics import accuracy_score\n",
    "from DCM.DCM import DCMoptimizer\n",
    "import pandas as pd "
   ]
  },
  {
   "cell_type": "code",
   "execution_count": 2,
   "metadata": {},
   "outputs": [],
   "source": [
    "seed_everything(42)"
   ]
  },
  {
   "cell_type": "code",
   "execution_count": 14,
   "metadata": {},
   "outputs": [],
   "source": [
    "valid_dir='../audioData/val_process_mel/'\n",
    "test1_dir = '../audioData/test1_process_mel/'\n",
    "test2_dir = '../audioData/test2_process_mel/'\n",
    "test_private_dir = '../audioData/test_private_process_mel/'\n",
    "valid_list=[item for item in os.listdir(valid_dir) if 'npy' in item]\n",
    "test1_list = [item for item in os.listdir(test1_dir) if 'npy' in item]\n",
    "test2_list = [item for item in os.listdir(test2_dir) if 'npy' in item]\n",
    "test_private_list = [item for item in os.listdir(test_private_dir) if 'npy' in item]\n",
    "test1_list.sort()\n",
    "test2_list.sort()\n",
    "test_private_list.sort()\n",
    "\n",
    "label2emo={'hap':0,'ang':1,'dis':2,'fea':3,'sad':4,'neu':5,'sur':6}\n",
    "emo2label = ['hap','ang','dis','fea','sad','neu','sur']\n",
    "class_dist = np.array([5295, 6571, 6785, 5048, 6843, 9259, 5380])\n",
    "class_dist = class_dist/np.sum(class_dist)\n",
    "batch_size = 128\n",
    "\n",
    "weight_paths = ['./model/b4_smooth_0_mix_0.5_RANGER_COSINEANNEALING/39_best_1.4295.pth',\n",
    "                './model/b4_smooth_0_mix_0.2_RANGER_COSINEANNEALING/33_best_1.4162.pth',\n",
    "                './model/b0_smooth_0_mix_0.5_RANGER_COSINEANNEALING/62_best_1.4409.pth',\n",
    "                './model/b0_smooth_0_mix_0.2_RANGER_COSINEANNEALING/36_best_1.4377.pth'\n",
    "               ]"
   ]
  },
  {
   "cell_type": "code",
   "execution_count": 4,
   "metadata": {},
   "outputs": [],
   "source": [
    "valid_dataset = Dataset(file_list=valid_list,root_dir=valid_dir,label_smooth_weight=0,is_train=False)\n",
    "valid_loader = torch.utils.data.DataLoader(valid_dataset,batch_size=batch_size,num_workers=15,shuffle=False)"
   ]
  },
  {
   "cell_type": "code",
   "execution_count": 5,
   "metadata": {},
   "outputs": [],
   "source": [
    "test1_dataset = Dataset(file_list=test1_list,root_dir=test1_dir,label_smooth_weight=0,is_train=False)\n",
    "test1_loader = torch.utils.data.DataLoader(test1_dataset,batch_size=batch_size,num_workers=15,shuffle=False)"
   ]
  },
  {
   "cell_type": "code",
   "execution_count": 6,
   "metadata": {},
   "outputs": [],
   "source": [
    "test2_dataset = Dataset(file_list=test2_list,root_dir=test2_dir,label_smooth_weight=0,is_train=False)\n",
    "test2_loader = torch.utils.data.DataLoader(test2_dataset,batch_size=batch_size,num_workers=15,shuffle=False)"
   ]
  },
  {
   "cell_type": "code",
   "execution_count": 24,
   "metadata": {},
   "outputs": [],
   "source": [
    "test_private_list_by_actor = [[],[],[],[]]\n",
    "for item in test_private_list:\n",
    "    actor_num = int(item.split(\"-\")[2])\n",
    "    test_private_list_by_actor[actor_num-1].append(item)\n",
    "    \n",
    "test_private_dataset_1 = Dataset(file_list=test_private_list_by_actor[0],root_dir=test_private_dir,label_smooth_weight=0,is_train=False)\n",
    "test_private_dataset_2 = Dataset(file_list=test_private_list_by_actor[1],root_dir=test_private_dir,label_smooth_weight=0,is_train=False)\n",
    "test_private_dataset_3 = Dataset(file_list=test_private_list_by_actor[2],root_dir=test_private_dir,label_smooth_weight=0,is_train=False)\n",
    "test_private_dataset_4 = Dataset(file_list=test_private_list_by_actor[3],root_dir=test_private_dir,label_smooth_weight=0,is_train=False)\n",
    "test_private_loader_1 = torch.utils.data.DataLoader(test_private_dataset_1,batch_size=batch_size,num_workers=15,shuffle=False)\n",
    "test_private_loader_2 = torch.utils.data.DataLoader(test_private_dataset_2,batch_size=batch_size,num_workers=15,shuffle=False)\n",
    "test_private_loader_3 = torch.utils.data.DataLoader(test_private_dataset_3,batch_size=batch_size,num_workers=15,shuffle=False)\n",
    "test_private_loader_4 = torch.utils.data.DataLoader(test_private_dataset_4,batch_size=batch_size,num_workers=15,shuffle=False)"
   ]
  },
  {
   "cell_type": "code",
   "execution_count": 7,
   "metadata": {},
   "outputs": [],
   "source": [
    "def get_preds(models,ensemble_weights,loader):\n",
    "    \"\"\"\n",
    "    \n",
    "    ensemble_preds : ndarray N,7\n",
    "    trues : ndarray N,1\n",
    "    \"\"\"\n",
    "    \n",
    "    assert len(models) == len(ensemble_weights), \"number of models does not match with number of ensemble_weights\"\n",
    "    \n",
    "    ensemble_weights = ensemble_weights/np.sum(ensemble_weights)\n",
    "    ensemble_preds = []\n",
    "    for model_idx,model in enumerate(models):\n",
    "        model.eval()\n",
    "        preds = []\n",
    "        trues = []\n",
    "        for idx,(x,y) in enumerate(tqdm(loader)):\n",
    "            with torch.no_grad():\n",
    "                x,y = x.cuda(),y.cuda()\n",
    "                pred = model(x)\n",
    "                pred = F.softmax(pred)\n",
    "            pred=pred.cpu().detach().numpy()\n",
    "            y = y.cpu().detach().numpy()\n",
    "            preds.append(pred)\n",
    "            trues.append(y)\n",
    "        preds = np.concatenate(preds)\n",
    "        trues = np.concatenate(trues)\n",
    "        ensemble_preds.append(preds*ensemble_weights[model_idx])\n",
    "    ensemble_preds = np.sum(ensemble_preds,axis=0)\n",
    "    try:\n",
    "        trues = np.argmax(trues,1)\n",
    "    except:\n",
    "        pass\n",
    "    return ensemble_preds, trues"
   ]
  },
  {
   "cell_type": "code",
   "execution_count": 8,
   "metadata": {},
   "outputs": [
    {
     "name": "stdout",
     "output_type": "stream",
     "text": [
      "Loaded pretrained weights for efficientnet-b4\n",
      "Loaded pretrained weights for efficientnet-b4\n",
      "Loaded pretrained weights for efficientnet-b0\n",
      "Loaded pretrained weights for efficientnet-b0\n"
     ]
    }
   ],
   "source": [
    "models = [None]*len(weight_paths)  \n",
    "for idx,path in enumerate(weight_paths):\n",
    "    model_name = path.split('/')[-2].split(\"_\")[0]\n",
    "    model = EfficientNet.from_pretrained(model_name='efficientnet-'+model_name)\n",
    "    model._fc=nn.Linear(model._fc.in_features,7)\n",
    "    model = nn.DataParallel(model)\n",
    "    model.load_state_dict(torch.load(path))\n",
    "    model.cuda()\n",
    "\n",
    "    models[idx] = model"
   ]
  },
  {
   "cell_type": "code",
   "execution_count": 9,
   "metadata": {},
   "outputs": [],
   "source": [
    "def search_weight(models,loader,N_iter = 20):\n",
    "    \"\"\"\n",
    "    return best ensemble_weights and DCM optimizer\n",
    "    \"\"\"\n",
    "    best_score = -np.inf\n",
    "    best_weights = None\n",
    "    best_optimizer = None\n",
    "    for iter in range(N_iter):\n",
    "        print(\"================\")\n",
    "        print(\"iteration :\",iter)\n",
    "        ensemble_weights = [np.random.uniform() for i in range(len(models))]\n",
    "        ensemble_weights = ensemble_weights/np.sum(ensemble_weights)\n",
    "        print(\"ensemble weight :\",ensemble_weights)\n",
    "        \n",
    "        preds,trues = get_preds(models,ensemble_weights,valid_loader)\n",
    "        \n",
    "        search_space = [i/100 for i in range(30)]\n",
    "        DCM = DCMoptimizer(n_classes = 7, weight = class_dist, predict = preds, true = trues,metric = accuracy_score)\n",
    "        DCM.search(space = search_space,verbose=False)\n",
    "        \n",
    "        if best_score < DCM.best_score:\n",
    "            best_score = DCM.best_score\n",
    "            best_weights = ensemble_weights\n",
    "            best_optimizer = DCM\n",
    "        \n",
    "        print(\"score :\",DCM.best_score)\n",
    "    \n",
    "    print(\"best_weights :\",best_weights)\n",
    "    print(\"best_l :\",best_optimizer.best_l)\n",
    "    print(\"best_score :\",best_score)\n",
    "    \n",
    "    return best_weights,best_optimizer"
   ]
  },
  {
   "cell_type": "code",
   "execution_count": 10,
   "metadata": {},
   "outputs": [
    {
     "name": "stderr",
     "output_type": "stream",
     "text": [
      "  0%|          | 0/43 [00:00<?, ?it/s]"
     ]
    },
    {
     "name": "stdout",
     "output_type": "stream",
     "text": [
      "================\n",
      "iteration : 0\n",
      "ensemble weight : [0.14102156 0.35796222 0.27560979 0.22540643]\n"
     ]
    },
    {
     "name": "stderr",
     "output_type": "stream",
     "text": [
      "/opt/conda/lib/python3.7/site-packages/ipykernel_launcher.py:20: UserWarning: Implicit dimension choice for softmax has been deprecated. Change the call to include dim=X as an argument.\n",
      "100%|██████████| 43/43 [00:12<00:00,  3.56it/s]\n",
      "100%|██████████| 43/43 [00:08<00:00,  4.96it/s]\n",
      "100%|██████████| 43/43 [00:05<00:00,  7.48it/s]\n",
      "100%|██████████| 43/43 [00:05<00:00,  7.52it/s]\n",
      "  0%|          | 0/43 [00:00<?, ?it/s]"
     ]
    },
    {
     "name": "stdout",
     "output_type": "stream",
     "text": [
      "search completed!\n",
      "Final l = 0.1 best score is 0.47829313543599256\n",
      "score : 0.47829313543599256\n",
      "================\n",
      "iteration : 1\n",
      "ensemble weight : [0.12620081 0.1261813  0.04698284 0.70063506]\n"
     ]
    },
    {
     "name": "stderr",
     "output_type": "stream",
     "text": [
      "100%|██████████| 43/43 [00:08<00:00,  4.95it/s]\n",
      "100%|██████████| 43/43 [00:08<00:00,  4.93it/s]\n",
      "100%|██████████| 43/43 [00:05<00:00,  7.55it/s]\n",
      "100%|██████████| 43/43 [00:05<00:00,  7.54it/s]\n",
      "  0%|          | 0/43 [00:00<?, ?it/s]"
     ]
    },
    {
     "name": "stdout",
     "output_type": "stream",
     "text": [
      "search completed!\n",
      "Final l = 0.08 best score is 0.4647495361781076\n",
      "score : 0.4647495361781076\n",
      "================\n",
      "iteration : 2\n",
      "ensemble weight : [0.2613905  0.30790022 0.00895102 0.42175826]\n"
     ]
    },
    {
     "name": "stderr",
     "output_type": "stream",
     "text": [
      "100%|██████████| 43/43 [00:08<00:00,  4.91it/s]\n",
      "100%|██████████| 43/43 [00:08<00:00,  4.94it/s]\n",
      "100%|██████████| 43/43 [00:05<00:00,  7.62it/s]\n",
      "100%|██████████| 43/43 [00:05<00:00,  7.46it/s]\n",
      "  0%|          | 0/43 [00:00<?, ?it/s]"
     ]
    },
    {
     "name": "stdout",
     "output_type": "stream",
     "text": [
      "search completed!\n",
      "Final l = 0.15 best score is 0.4779220779220779\n",
      "score : 0.4779220779220779\n",
      "================\n",
      "iteration : 3\n",
      "ensemble weight : [0.59038015 0.15059391 0.12895285 0.13007308]\n"
     ]
    },
    {
     "name": "stderr",
     "output_type": "stream",
     "text": [
      "100%|██████████| 43/43 [00:08<00:00,  5.03it/s]\n",
      "100%|██████████| 43/43 [00:08<00:00,  4.95it/s]\n",
      "100%|██████████| 43/43 [00:05<00:00,  7.63it/s]\n",
      "100%|██████████| 43/43 [00:05<00:00,  7.44it/s]\n",
      "  0%|          | 0/43 [00:00<?, ?it/s]"
     ]
    },
    {
     "name": "stdout",
     "output_type": "stream",
     "text": [
      "search completed!\n",
      "Final l = 0.01 best score is 0.4792207792207792\n",
      "score : 0.4792207792207792\n",
      "================\n",
      "iteration : 4\n",
      "ensemble weight : [0.19601054 0.33807861 0.2782841  0.18762675]\n"
     ]
    },
    {
     "name": "stderr",
     "output_type": "stream",
     "text": [
      "100%|██████████| 43/43 [00:08<00:00,  4.92it/s]\n",
      "100%|██████████| 43/43 [00:08<00:00,  4.95it/s]\n",
      "100%|██████████| 43/43 [00:05<00:00,  7.53it/s]\n",
      "100%|██████████| 43/43 [00:05<00:00,  7.44it/s]\n",
      "  0%|          | 0/43 [00:00<?, ?it/s]"
     ]
    },
    {
     "name": "stdout",
     "output_type": "stream",
     "text": [
      "search completed!\n",
      "Final l = 0.17 best score is 0.47940630797773653\n",
      "score : 0.47940630797773653\n",
      "================\n",
      "iteration : 5\n",
      "ensemble weight : [0.43398339 0.09894211 0.20721635 0.25985814]\n"
     ]
    },
    {
     "name": "stderr",
     "output_type": "stream",
     "text": [
      "100%|██████████| 43/43 [00:08<00:00,  4.95it/s]\n",
      "100%|██████████| 43/43 [00:08<00:00,  4.93it/s]\n",
      "100%|██████████| 43/43 [00:05<00:00,  7.50it/s]\n",
      "100%|██████████| 43/43 [00:05<00:00,  7.46it/s]\n",
      "  0%|          | 0/43 [00:00<?, ?it/s]"
     ]
    },
    {
     "name": "stdout",
     "output_type": "stream",
     "text": [
      "search completed!\n",
      "Final l = 0.02 best score is 0.48070500927643783\n",
      "score : 0.48070500927643783\n",
      "================\n",
      "iteration : 6\n",
      "ensemble weight : [0.23326548 0.40159286 0.10212687 0.26301478]\n"
     ]
    },
    {
     "name": "stderr",
     "output_type": "stream",
     "text": [
      "100%|██████████| 43/43 [00:08<00:00,  4.95it/s]\n",
      "100%|██████████| 43/43 [00:08<00:00,  4.93it/s]\n",
      "100%|██████████| 43/43 [00:05<00:00,  7.53it/s]\n",
      "100%|██████████| 43/43 [00:05<00:00,  7.44it/s]\n",
      "  0%|          | 0/43 [00:00<?, ?it/s]"
     ]
    },
    {
     "name": "stdout",
     "output_type": "stream",
     "text": [
      "search completed!\n",
      "Final l = 0.2 best score is 0.47940630797773653\n",
      "score : 0.47940630797773653\n",
      "================\n",
      "iteration : 7\n",
      "ensemble weight : [0.41809611 0.03278234 0.42877429 0.12034726]\n"
     ]
    },
    {
     "name": "stderr",
     "output_type": "stream",
     "text": [
      "100%|██████████| 43/43 [00:08<00:00,  4.90it/s]\n",
      "100%|██████████| 43/43 [00:08<00:00,  4.94it/s]\n",
      "100%|██████████| 43/43 [00:05<00:00,  7.54it/s]\n",
      "100%|██████████| 43/43 [00:05<00:00,  7.42it/s]\n",
      "  0%|          | 0/43 [00:00<?, ?it/s]"
     ]
    },
    {
     "name": "stdout",
     "output_type": "stream",
     "text": [
      "search completed!\n",
      "Final l = 0.0 best score is 0.4749536178107607\n",
      "score : 0.4749536178107607\n",
      "================\n",
      "iteration : 8\n",
      "ensemble weight : [0.02333299 0.34035041 0.34635711 0.28995949]\n"
     ]
    },
    {
     "name": "stderr",
     "output_type": "stream",
     "text": [
      "100%|██████████| 43/43 [00:08<00:00,  4.98it/s]\n",
      "100%|██████████| 43/43 [00:08<00:00,  4.92it/s]\n",
      "100%|██████████| 43/43 [00:05<00:00,  7.65it/s]\n",
      "100%|██████████| 43/43 [00:05<00:00,  7.43it/s]\n",
      "  0%|          | 0/43 [00:00<?, ?it/s]"
     ]
    },
    {
     "name": "stdout",
     "output_type": "stream",
     "text": [
      "search completed!\n",
      "Final l = 0.16 best score is 0.47569573283858996\n",
      "score : 0.47569573283858996\n",
      "================\n",
      "iteration : 9\n",
      "ensemble weight : [0.19952805 0.06397717 0.44818618 0.2883086 ]\n"
     ]
    },
    {
     "name": "stderr",
     "output_type": "stream",
     "text": [
      "100%|██████████| 43/43 [00:08<00:00,  4.93it/s]\n",
      "100%|██████████| 43/43 [00:08<00:00,  4.96it/s]\n",
      "100%|██████████| 43/43 [00:05<00:00,  7.58it/s]\n",
      "100%|██████████| 43/43 [00:05<00:00,  7.50it/s]\n",
      "  0%|          | 0/43 [00:00<?, ?it/s]"
     ]
    },
    {
     "name": "stdout",
     "output_type": "stream",
     "text": [
      "search completed!\n",
      "Final l = 0.02 best score is 0.476252319109462\n",
      "score : 0.476252319109462\n",
      "================\n",
      "iteration : 10\n",
      "ensemble weight : [0.07818333 0.31723318 0.02203087 0.58255262]\n"
     ]
    },
    {
     "name": "stderr",
     "output_type": "stream",
     "text": [
      "100%|██████████| 43/43 [00:08<00:00,  4.93it/s]\n",
      "100%|██████████| 43/43 [00:08<00:00,  4.94it/s]\n",
      "100%|██████████| 43/43 [00:05<00:00,  7.59it/s]\n",
      "100%|██████████| 43/43 [00:05<00:00,  7.49it/s]\n",
      "  0%|          | 0/43 [00:00<?, ?it/s]"
     ]
    },
    {
     "name": "stdout",
     "output_type": "stream",
     "text": [
      "search completed!\n",
      "Final l = 0.14 best score is 0.47217068645640076\n",
      "score : 0.47217068645640076\n",
      "================\n",
      "iteration : 11\n",
      "ensemble weight : [0.14761436 0.37791873 0.17780754 0.29665937]\n"
     ]
    },
    {
     "name": "stderr",
     "output_type": "stream",
     "text": [
      "100%|██████████| 43/43 [00:08<00:00,  4.93it/s]\n",
      "100%|██████████| 43/43 [00:08<00:00,  4.87it/s]\n",
      "100%|██████████| 43/43 [00:05<00:00,  7.56it/s]\n",
      "100%|██████████| 43/43 [00:05<00:00,  7.43it/s]\n",
      "  0%|          | 0/43 [00:00<?, ?it/s]"
     ]
    },
    {
     "name": "stdout",
     "output_type": "stream",
     "text": [
      "search completed!\n",
      "Final l = 0.14 best score is 0.48126159554730985\n",
      "score : 0.48126159554730985\n",
      "================\n",
      "iteration : 12\n",
      "ensemble weight : [0.22077867 0.07465    0.39154852 0.31302282]\n"
     ]
    },
    {
     "name": "stderr",
     "output_type": "stream",
     "text": [
      "100%|██████████| 43/43 [00:08<00:00,  4.96it/s]\n",
      "100%|██████████| 43/43 [00:08<00:00,  4.90it/s]\n",
      "100%|██████████| 43/43 [00:05<00:00,  7.55it/s]\n",
      "100%|██████████| 43/43 [00:05<00:00,  7.39it/s]\n",
      "  0%|          | 0/43 [00:00<?, ?it/s]"
     ]
    },
    {
     "name": "stdout",
     "output_type": "stream",
     "text": [
      "search completed!\n",
      "Final l = 0.03 best score is 0.4766233766233766\n",
      "score : 0.4766233766233766\n",
      "================\n",
      "iteration : 13\n",
      "ensemble weight : [0.28010459 0.26678609 0.17825941 0.27484991]\n"
     ]
    },
    {
     "name": "stderr",
     "output_type": "stream",
     "text": [
      "100%|██████████| 43/43 [00:08<00:00,  4.92it/s]\n",
      "100%|██████████| 43/43 [00:08<00:00,  4.92it/s]\n",
      "100%|██████████| 43/43 [00:05<00:00,  7.59it/s]\n",
      "100%|██████████| 43/43 [00:05<00:00,  7.21it/s]\n",
      "  0%|          | 0/43 [00:00<?, ?it/s]"
     ]
    },
    {
     "name": "stdout",
     "output_type": "stream",
     "text": [
      "search completed!\n",
      "Final l = 0.09 best score is 0.4803339517625232\n",
      "score : 0.4803339517625232\n",
      "================\n",
      "iteration : 14\n",
      "ensemble weight : [0.13509625 0.29919541 0.06904582 0.49666252]\n"
     ]
    },
    {
     "name": "stderr",
     "output_type": "stream",
     "text": [
      "100%|██████████| 43/43 [00:08<00:00,  4.99it/s]\n",
      "100%|██████████| 43/43 [00:08<00:00,  4.94it/s]\n",
      "100%|██████████| 43/43 [00:05<00:00,  7.60it/s]\n",
      "100%|██████████| 43/43 [00:05<00:00,  7.48it/s]\n",
      "  0%|          | 0/43 [00:00<?, ?it/s]"
     ]
    },
    {
     "name": "stdout",
     "output_type": "stream",
     "text": [
      "search completed!\n",
      "Final l = 0.07 best score is 0.4766233766233766\n",
      "score : 0.4766233766233766\n",
      "================\n",
      "iteration : 15\n",
      "ensemble weight : [0.21060616 0.14703143 0.44905435 0.19330805]\n"
     ]
    },
    {
     "name": "stderr",
     "output_type": "stream",
     "text": [
      "100%|██████████| 43/43 [00:08<00:00,  4.93it/s]\n",
      "100%|██████████| 43/43 [00:08<00:00,  4.91it/s]\n",
      "100%|██████████| 43/43 [00:05<00:00,  7.65it/s]\n",
      "100%|██████████| 43/43 [00:05<00:00,  7.43it/s]\n",
      "  0%|          | 0/43 [00:00<?, ?it/s]"
     ]
    },
    {
     "name": "stdout",
     "output_type": "stream",
     "text": [
      "search completed!\n",
      "Final l = 0.01 best score is 0.47680890538033394\n",
      "score : 0.47680890538033394\n",
      "================\n",
      "iteration : 16\n",
      "ensemble weight : [0.15901187 0.30717166 0.07976459 0.45405188]\n"
     ]
    },
    {
     "name": "stderr",
     "output_type": "stream",
     "text": [
      "100%|██████████| 43/43 [00:08<00:00,  5.01it/s]\n",
      "100%|██████████| 43/43 [00:08<00:00,  4.98it/s]\n",
      "100%|██████████| 43/43 [00:05<00:00,  7.57it/s]\n",
      "100%|██████████| 43/43 [00:05<00:00,  7.54it/s]\n",
      "  0%|          | 0/43 [00:00<?, ?it/s]"
     ]
    },
    {
     "name": "stdout",
     "output_type": "stream",
     "text": [
      "search completed!\n",
      "Final l = 0.1 best score is 0.4775510204081633\n",
      "score : 0.4775510204081633\n",
      "================\n",
      "iteration : 17\n",
      "ensemble weight : [0.03668112 0.48557759 0.37996729 0.097774  ]\n"
     ]
    },
    {
     "name": "stderr",
     "output_type": "stream",
     "text": [
      "100%|██████████| 43/43 [00:08<00:00,  5.00it/s]\n",
      "100%|██████████| 43/43 [00:08<00:00,  4.97it/s]\n",
      "100%|██████████| 43/43 [00:05<00:00,  7.55it/s]\n",
      "100%|██████████| 43/43 [00:05<00:00,  7.37it/s]\n",
      "  0%|          | 0/43 [00:00<?, ?it/s]"
     ]
    },
    {
     "name": "stdout",
     "output_type": "stream",
     "text": [
      "search completed!\n",
      "Final l = 0.13 best score is 0.474025974025974\n",
      "score : 0.474025974025974\n",
      "================\n",
      "iteration : 18\n",
      "ensemble weight : [0.00244683 0.36132757 0.31320555 0.32302005]\n"
     ]
    },
    {
     "name": "stderr",
     "output_type": "stream",
     "text": [
      "100%|██████████| 43/43 [00:08<00:00,  4.97it/s]\n",
      "100%|██████████| 43/43 [00:08<00:00,  4.94it/s]\n",
      "100%|██████████| 43/43 [00:05<00:00,  7.56it/s]\n",
      "100%|██████████| 43/43 [00:05<00:00,  7.59it/s]\n",
      "  0%|          | 0/43 [00:00<?, ?it/s]"
     ]
    },
    {
     "name": "stdout",
     "output_type": "stream",
     "text": [
      "search completed!\n",
      "Final l = 0.02 best score is 0.4764378478664193\n",
      "score : 0.4764378478664193\n",
      "================\n",
      "iteration : 19\n",
      "ensemble weight : [0.58445078 0.05610932 0.27163701 0.08780289]\n"
     ]
    },
    {
     "name": "stderr",
     "output_type": "stream",
     "text": [
      "100%|██████████| 43/43 [00:08<00:00,  5.01it/s]\n",
      "100%|██████████| 43/43 [00:08<00:00,  4.99it/s]\n",
      "100%|██████████| 43/43 [00:05<00:00,  7.67it/s]\n",
      "100%|██████████| 43/43 [00:05<00:00,  7.49it/s]\n",
      "  0%|          | 0/43 [00:00<?, ?it/s]"
     ]
    },
    {
     "name": "stdout",
     "output_type": "stream",
     "text": [
      "search completed!\n",
      "Final l = 0.07 best score is 0.47829313543599256\n",
      "score : 0.47829313543599256\n",
      "================\n",
      "iteration : 20\n",
      "ensemble weight : [0.45888816 0.33139033 0.1759293  0.03379221]\n"
     ]
    },
    {
     "name": "stderr",
     "output_type": "stream",
     "text": [
      "100%|██████████| 43/43 [00:08<00:00,  4.99it/s]\n",
      "100%|██████████| 43/43 [00:08<00:00,  4.93it/s]\n",
      "100%|██████████| 43/43 [00:05<00:00,  7.51it/s]\n",
      "100%|██████████| 43/43 [00:05<00:00,  7.58it/s]\n",
      "  0%|          | 0/43 [00:00<?, ?it/s]"
     ]
    },
    {
     "name": "stdout",
     "output_type": "stream",
     "text": [
      "search completed!\n",
      "Final l = 0.02 best score is 0.47977736549165123\n",
      "score : 0.47977736549165123\n",
      "================\n",
      "iteration : 21\n",
      "ensemble weight : [0.15523275 0.16232145 0.36419683 0.31824896]\n"
     ]
    },
    {
     "name": "stderr",
     "output_type": "stream",
     "text": [
      "100%|██████████| 43/43 [00:08<00:00,  5.00it/s]\n",
      "100%|██████████| 43/43 [00:08<00:00,  4.98it/s]\n",
      "100%|██████████| 43/43 [00:05<00:00,  7.72it/s]\n",
      "100%|██████████| 43/43 [00:05<00:00,  7.41it/s]\n",
      "  0%|          | 0/43 [00:00<?, ?it/s]"
     ]
    },
    {
     "name": "stdout",
     "output_type": "stream",
     "text": [
      "search completed!\n",
      "Final l = 0.13 best score is 0.4766233766233766\n",
      "score : 0.4766233766233766\n",
      "================\n",
      "iteration : 22\n",
      "ensemble weight : [0.4047011  0.21540031 0.05455278 0.32534581]\n"
     ]
    },
    {
     "name": "stderr",
     "output_type": "stream",
     "text": [
      "100%|██████████| 43/43 [00:08<00:00,  5.04it/s]\n",
      "100%|██████████| 43/43 [00:08<00:00,  4.97it/s]\n",
      "100%|██████████| 43/43 [00:05<00:00,  7.57it/s]\n",
      "100%|██████████| 43/43 [00:05<00:00,  7.49it/s]\n",
      "  0%|          | 0/43 [00:00<?, ?it/s]"
     ]
    },
    {
     "name": "stdout",
     "output_type": "stream",
     "text": [
      "search completed!\n",
      "Final l = 0.09 best score is 0.47829313543599256\n",
      "score : 0.47829313543599256\n",
      "================\n",
      "iteration : 23\n",
      "ensemble weight : [0.29409993 0.21697532 0.29803608 0.19088867]\n"
     ]
    },
    {
     "name": "stderr",
     "output_type": "stream",
     "text": [
      "100%|██████████| 43/43 [00:08<00:00,  5.00it/s]\n",
      "100%|██████████| 43/43 [00:08<00:00,  4.93it/s]\n",
      "100%|██████████| 43/43 [00:05<00:00,  7.66it/s]\n",
      "100%|██████████| 43/43 [00:05<00:00,  7.50it/s]\n",
      "  0%|          | 0/43 [00:00<?, ?it/s]"
     ]
    },
    {
     "name": "stdout",
     "output_type": "stream",
     "text": [
      "search completed!\n",
      "Final l = 0.09 best score is 0.4792207792207792\n",
      "score : 0.4792207792207792\n",
      "================\n",
      "iteration : 24\n",
      "ensemble weight : [0.48241081 0.39456181 0.02345837 0.09956901]\n"
     ]
    },
    {
     "name": "stderr",
     "output_type": "stream",
     "text": [
      "100%|██████████| 43/43 [00:08<00:00,  4.98it/s]\n",
      "100%|██████████| 43/43 [00:08<00:00,  4.92it/s]\n",
      "100%|██████████| 43/43 [00:05<00:00,  7.64it/s]\n",
      "100%|██████████| 43/43 [00:05<00:00,  7.47it/s]\n",
      "  0%|          | 0/43 [00:00<?, ?it/s]"
     ]
    },
    {
     "name": "stdout",
     "output_type": "stream",
     "text": [
      "search completed!\n",
      "Final l = 0.0 best score is 0.47717996289424863\n",
      "score : 0.47717996289424863\n",
      "================\n",
      "iteration : 25\n",
      "ensemble weight : [0.02108257 0.42690154 0.21086872 0.34114717]\n"
     ]
    },
    {
     "name": "stderr",
     "output_type": "stream",
     "text": [
      "100%|██████████| 43/43 [00:08<00:00,  4.92it/s]\n",
      "100%|██████████| 43/43 [00:08<00:00,  4.94it/s]\n",
      "100%|██████████| 43/43 [00:05<00:00,  7.48it/s]\n",
      "100%|██████████| 43/43 [00:05<00:00,  7.55it/s]\n",
      "  0%|          | 0/43 [00:00<?, ?it/s]"
     ]
    },
    {
     "name": "stdout",
     "output_type": "stream",
     "text": [
      "search completed!\n",
      "Final l = 0.19 best score is 0.4779220779220779\n",
      "score : 0.4779220779220779\n",
      "================\n",
      "iteration : 26\n",
      "ensemble weight : [0.3907221  0.10732435 0.17667651 0.32527703]\n"
     ]
    },
    {
     "name": "stderr",
     "output_type": "stream",
     "text": [
      "100%|██████████| 43/43 [00:08<00:00,  4.93it/s]\n",
      "100%|██████████| 43/43 [00:08<00:00,  4.90it/s]\n",
      "100%|██████████| 43/43 [00:05<00:00,  7.55it/s]\n",
      "100%|██████████| 43/43 [00:05<00:00,  7.63it/s]\n",
      "  0%|          | 0/43 [00:00<?, ?it/s]"
     ]
    },
    {
     "name": "stdout",
     "output_type": "stream",
     "text": [
      "search completed!\n",
      "Final l = 0.04 best score is 0.48014842300556587\n",
      "score : 0.48014842300556587\n",
      "================\n",
      "iteration : 27\n",
      "ensemble weight : [0.30234281 0.10172425 0.38288885 0.21304409]\n"
     ]
    },
    {
     "name": "stderr",
     "output_type": "stream",
     "text": [
      "100%|██████████| 43/43 [00:08<00:00,  4.98it/s]\n",
      "100%|██████████| 43/43 [00:08<00:00,  4.96it/s]\n",
      "100%|██████████| 43/43 [00:05<00:00,  7.60it/s]\n",
      "100%|██████████| 43/43 [00:05<00:00,  7.45it/s]\n",
      "  0%|          | 0/43 [00:00<?, ?it/s]"
     ]
    },
    {
     "name": "stdout",
     "output_type": "stream",
     "text": [
      "search completed!\n",
      "Final l = 0.11 best score is 0.47717996289424863\n",
      "score : 0.47717996289424863\n",
      "================\n",
      "iteration : 28\n",
      "ensemble weight : [0.28670636 0.24921355 0.19533327 0.26874682]\n"
     ]
    },
    {
     "name": "stderr",
     "output_type": "stream",
     "text": [
      "100%|██████████| 43/43 [00:08<00:00,  4.95it/s]\n",
      "100%|██████████| 43/43 [00:08<00:00,  4.93it/s]\n",
      "100%|██████████| 43/43 [00:05<00:00,  7.49it/s]\n",
      "100%|██████████| 43/43 [00:05<00:00,  7.54it/s]\n",
      "  0%|          | 0/43 [00:00<?, ?it/s]"
     ]
    },
    {
     "name": "stdout",
     "output_type": "stream",
     "text": [
      "search completed!\n",
      "Final l = 0.09 best score is 0.48014842300556587\n",
      "score : 0.48014842300556587\n",
      "================\n",
      "iteration : 29\n",
      "ensemble weight : [0.33180202 0.07702684 0.36849966 0.22267148]\n"
     ]
    },
    {
     "name": "stderr",
     "output_type": "stream",
     "text": [
      "100%|██████████| 43/43 [00:08<00:00,  4.98it/s]\n",
      "100%|██████████| 43/43 [00:08<00:00,  4.92it/s]\n",
      "100%|██████████| 43/43 [00:05<00:00,  7.41it/s]\n",
      "100%|██████████| 43/43 [00:05<00:00,  7.56it/s]\n"
     ]
    },
    {
     "name": "stdout",
     "output_type": "stream",
     "text": [
      "search completed!\n",
      "Final l = 0.06 best score is 0.4777365491651206\n",
      "score : 0.4777365491651206\n",
      "best_weights : [0.14761436 0.37791873 0.17780754 0.29665937]\n",
      "best_l : 0.14\n",
      "best_score : 0.48126159554730985\n",
      "CPU times: user 24min 8s, sys: 6min 50s, total: 30min 58s\n",
      "Wall time: 30min 19s\n"
     ]
    }
   ],
   "source": [
    "%%time\n",
    "best_ensemble_weights, best_optimizer = search_weight(models,valid_loader,30)"
   ]
  },
  {
   "cell_type": "code",
   "execution_count": 11,
   "metadata": {},
   "outputs": [],
   "source": [
    "model_setting = 'MIXUP MODEL 4 ENSEMBLE'"
   ]
  },
  {
   "cell_type": "code",
   "execution_count": 12,
   "metadata": {},
   "outputs": [
    {
     "name": "stderr",
     "output_type": "stream",
     "text": [
      "  0%|          | 0/22 [00:00<?, ?it/s]/opt/conda/lib/python3.7/site-packages/ipykernel_launcher.py:20: UserWarning: Implicit dimension choice for softmax has been deprecated. Change the call to include dim=X as an argument.\n",
      "100%|██████████| 22/22 [01:38<00:00,  4.49s/it]\n",
      "100%|██████████| 22/22 [00:12<00:00,  1.83it/s]\n",
      "100%|██████████| 22/22 [00:10<00:00,  2.15it/s]\n",
      "100%|██████████| 22/22 [00:11<00:00,  1.94it/s]\n",
      "100%|██████████| 22/22 [00:13<00:00,  1.69it/s]\n",
      "100%|██████████| 22/22 [00:13<00:00,  1.61it/s]\n",
      "100%|██████████| 22/22 [00:11<00:00,  1.89it/s]\n",
      "100%|██████████| 22/22 [00:12<00:00,  1.83it/s]\n"
     ]
    }
   ],
   "source": [
    "preds,_ = get_preds(models,best_ensemble_weights,test1_loader)\n",
    "df = pd.read_csv(\"./qia_test1_baseline.csv\")\n",
    "labels = [emo2label[pred] for pred in best_optimizer.apply(preds)]\n",
    "df.iloc[:,1] = labels\n",
    "df.to_csv('./result_csv/'+model_setting+'-test1-w-dcm.csv',index=False)\n",
    "\n",
    "preds,_ = get_preds(models,[1]*len(models),test1_loader)\n",
    "df = pd.read_csv(\"./qia_test1_baseline.csv\")\n",
    "labels = [emo2label[pred] for pred in np.argmax(preds,1)]\n",
    "df.iloc[:,1] = labels\n",
    "df.to_csv('./result_csv/'+ model_setting+'-test1-wo-dcm.csv',index=False)"
   ]
  },
  {
   "cell_type": "code",
   "execution_count": 13,
   "metadata": {},
   "outputs": [
    {
     "name": "stderr",
     "output_type": "stream",
     "text": [
      "  0%|          | 0/23 [00:00<?, ?it/s]/opt/conda/lib/python3.7/site-packages/ipykernel_launcher.py:20: UserWarning: Implicit dimension choice for softmax has been deprecated. Change the call to include dim=X as an argument.\n",
      "100%|██████████| 23/23 [00:13<00:00,  1.72it/s]\n",
      "100%|██████████| 23/23 [00:13<00:00,  1.72it/s]\n",
      "100%|██████████| 23/23 [00:11<00:00,  1.94it/s]\n",
      "100%|██████████| 23/23 [00:11<00:00,  1.97it/s]\n",
      "100%|██████████| 23/23 [00:13<00:00,  1.72it/s]\n",
      "100%|██████████| 23/23 [00:13<00:00,  1.72it/s]\n",
      "100%|██████████| 23/23 [00:11<00:00,  1.94it/s]\n",
      "100%|██████████| 23/23 [00:11<00:00,  1.96it/s]\n"
     ]
    }
   ],
   "source": [
    "preds,_ = get_preds(models,best_ensemble_weights,test2_loader)\n",
    "df = pd.read_csv(\"./qia_test2_baseline.csv\")\n",
    "labels = [emo2label[pred] for pred in best_optimizer.apply(preds)]\n",
    "df.iloc[:,1] = labels\n",
    "df.to_csv('./result_csv/'+ model_setting+'-test2-w-dcm.csv',index=False)\n",
    "\n",
    "preds,_ = get_preds(models,[1]*len(models),test2_loader)\n",
    "df = pd.read_csv(\"./qia_test2_baseline.csv\")\n",
    "labels = [emo2label[pred] for pred in np.argmax(preds,1)]\n",
    "df.iloc[:,1] = labels\n",
    "df.to_csv('./result_csv/'+ model_setting+'-test2-wo-dcm.csv',index=False)"
   ]
  },
  {
   "cell_type": "markdown",
   "metadata": {},
   "source": [
    "## Test on our data"
   ]
  },
  {
   "cell_type": "code",
   "execution_count": 52,
   "metadata": {},
   "outputs": [],
   "source": [
    "from sklearn.metrics import confusion_matrix\n",
    "np.set_printoptions(precision=4)"
   ]
  },
  {
   "cell_type": "code",
   "execution_count": null,
   "metadata": {},
   "outputs": [],
   "source": []
  },
  {
   "cell_type": "code",
   "execution_count": 54,
   "metadata": {},
   "outputs": [
    {
     "name": "stderr",
     "output_type": "stream",
     "text": [
      "  0%|          | 0/1 [00:00<?, ?it/s]/opt/conda/lib/python3.7/site-packages/ipykernel_launcher.py:20: UserWarning: Implicit dimension choice for softmax has been deprecated. Change the call to include dim=X as an argument.\n",
      "100%|██████████| 1/1 [00:10<00:00, 10.44s/it]\n",
      "100%|██████████| 1/1 [00:10<00:00, 10.40s/it]\n",
      "100%|██████████| 1/1 [00:10<00:00, 10.38s/it]\n",
      "100%|██████████| 1/1 [00:10<00:00, 10.30s/it]"
     ]
    },
    {
     "name": "stdout",
     "output_type": "stream",
     "text": [
      "0.2222222222222222\n"
     ]
    },
    {
     "name": "stderr",
     "output_type": "stream",
     "text": [
      "\n"
     ]
    },
    {
     "data": {
      "text/plain": [
       "array([[0.    , 0.1111, 0.2222, 0.    , 0.0556, 0.6111, 0.    ],\n",
       "       [0.    , 0.0556, 0.1111, 0.    , 0.2778, 0.5556, 0.    ],\n",
       "       [0.1111, 0.    , 0.0556, 0.    , 0.3333, 0.4444, 0.0556],\n",
       "       [0.    , 0.    , 0.    , 0.    , 0.5   , 0.4444, 0.0556],\n",
       "       [0.    , 0.    , 0.    , 0.    , 0.6667, 0.2778, 0.0556],\n",
       "       [0.    , 0.    , 0.0556, 0.    , 0.3889, 0.5556, 0.    ],\n",
       "       [0.    , 0.2778, 0.0556, 0.0556, 0.1111, 0.2778, 0.2222]])"
      ]
     },
     "execution_count": 54,
     "metadata": {},
     "output_type": "execute_result"
    }
   ],
   "source": [
    "preds,true = get_preds(models,best_ensemble_weights,test_private_loader_1)\n",
    "final = [pred for pred in best_optimizer.apply(preds)]\n",
    "print(accuracy_score(true,final))\n",
    "cm = confusion_matrix(true,final)\n",
    "cm = cm/np.sum(cm,1)\n",
    "cm"
   ]
  },
  {
   "cell_type": "code",
   "execution_count": 57,
   "metadata": {},
   "outputs": [
    {
     "name": "stderr",
     "output_type": "stream",
     "text": [
      "\n",
      "  0%|          | 0/1 [00:00<?, ?it/s]\u001b[A/opt/conda/lib/python3.7/site-packages/ipykernel_launcher.py:20: UserWarning: Implicit dimension choice for softmax has been deprecated. Change the call to include dim=X as an argument.\n",
      "\n",
      "100%|██████████| 1/1 [00:11<00:00, 11.41s/it]\n",
      "\n",
      "  0%|          | 0/1 [00:00<?, ?it/s]\u001b[A\n",
      "100%|██████████| 1/1 [00:10<00:00, 10.39s/it]\n",
      "\n",
      "  0%|          | 0/1 [00:00<?, ?it/s]\u001b[A\n",
      "100%|██████████| 1/1 [00:10<00:00, 10.12s/it]\n",
      "\n",
      "  0%|          | 0/1 [00:00<?, ?it/s]\u001b[A\n",
      "100%|██████████| 1/1 [00:10<00:00, 10.34s/it]"
     ]
    },
    {
     "name": "stdout",
     "output_type": "stream",
     "text": [
      "0.23622047244094488\n"
     ]
    },
    {
     "name": "stderr",
     "output_type": "stream",
     "text": [
      "\n"
     ]
    },
    {
     "data": {
      "text/plain": [
       "array([[0.1667, 0.    , 0.0556, 0.0556, 0.4444, 0.2778, 0.    ],\n",
       "       [0.0556, 0.    , 0.    , 0.    , 0.3889, 0.5556, 0.    ],\n",
       "       [0.    , 0.    , 0.0556, 0.    , 0.8333, 0.0556, 0.0526],\n",
       "       [0.    , 0.    , 0.    , 0.    , 0.7778, 0.2222, 0.    ],\n",
       "       [0.    , 0.    , 0.    , 0.0556, 0.8333, 0.1111, 0.    ],\n",
       "       [0.2222, 0.    , 0.0556, 0.    , 0.2778, 0.4444, 0.    ],\n",
       "       [0.    , 0.0556, 0.2222, 0.2222, 0.2222, 0.1667, 0.1579]])"
      ]
     },
     "execution_count": 57,
     "metadata": {},
     "output_type": "execute_result"
    }
   ],
   "source": [
    "preds,true = get_preds(models,best_ensemble_weights,test_private_loader_2)\n",
    "final = [pred for pred in best_optimizer.apply(preds)]\n",
    "print(accuracy_score(true,final))\n",
    "cm = confusion_matrix(true,final)\n",
    "cm = cm/np.sum(cm,1)\n",
    "cm"
   ]
  },
  {
   "cell_type": "code",
   "execution_count": 58,
   "metadata": {},
   "outputs": [
    {
     "name": "stderr",
     "output_type": "stream",
     "text": [
      "\n",
      "  0%|          | 0/1 [00:00<?, ?it/s]\u001b[A/opt/conda/lib/python3.7/site-packages/ipykernel_launcher.py:20: UserWarning: Implicit dimension choice for softmax has been deprecated. Change the call to include dim=X as an argument.\n",
      "\n",
      "100%|██████████| 1/1 [00:10<00:00, 10.19s/it]\n",
      "\n",
      "  0%|          | 0/1 [00:00<?, ?it/s]\u001b[A\n",
      "100%|██████████| 1/1 [00:10<00:00, 10.41s/it]\n",
      "\n",
      "  0%|          | 0/1 [00:00<?, ?it/s]\u001b[A\n",
      "100%|██████████| 1/1 [00:10<00:00, 10.33s/it]\n",
      "\n",
      "  0%|          | 0/1 [00:00<?, ?it/s]\u001b[A\n",
      "100%|██████████| 1/1 [00:10<00:00, 10.44s/it]"
     ]
    },
    {
     "name": "stdout",
     "output_type": "stream",
     "text": [
      "0.29365079365079366\n"
     ]
    },
    {
     "name": "stderr",
     "output_type": "stream",
     "text": [
      "\n"
     ]
    },
    {
     "data": {
      "text/plain": [
       "array([[0.2222, 0.6111, 0.    , 0.    , 0.0556, 0.1111, 0.    ],\n",
       "       [0.    , 0.5556, 0.    , 0.0556, 0.0556, 0.2778, 0.0556],\n",
       "       [0.0556, 0.5556, 0.    , 0.    , 0.0556, 0.3333, 0.    ],\n",
       "       [0.0556, 0.2778, 0.    , 0.1667, 0.2222, 0.2778, 0.    ],\n",
       "       [0.0556, 0.1111, 0.2222, 0.0556, 0.3889, 0.1667, 0.    ],\n",
       "       [0.1111, 0.2778, 0.    , 0.0556, 0.0556, 0.5   , 0.    ],\n",
       "       [0.1111, 0.1111, 0.1111, 0.1111, 0.1111, 0.2222, 0.2222]])"
      ]
     },
     "execution_count": 58,
     "metadata": {},
     "output_type": "execute_result"
    }
   ],
   "source": [
    "preds,true = get_preds(models,best_ensemble_weights,test_private_loader_3)\n",
    "final = [pred for pred in best_optimizer.apply(preds)]\n",
    "print(accuracy_score(true,final))\n",
    "cm = confusion_matrix(true,final)\n",
    "cm = cm/np.sum(cm,1)\n",
    "cm"
   ]
  },
  {
   "cell_type": "code",
   "execution_count": 59,
   "metadata": {},
   "outputs": [
    {
     "name": "stderr",
     "output_type": "stream",
     "text": [
      "\n",
      "  0%|          | 0/1 [00:00<?, ?it/s]\u001b[A/opt/conda/lib/python3.7/site-packages/ipykernel_launcher.py:20: UserWarning: Implicit dimension choice for softmax has been deprecated. Change the call to include dim=X as an argument.\n",
      "\n",
      "100%|██████████| 1/1 [00:10<00:00, 10.35s/it]\n",
      "\n",
      "  0%|          | 0/1 [00:00<?, ?it/s]\u001b[A\n",
      "100%|██████████| 1/1 [00:10<00:00, 10.20s/it]\n",
      "\n",
      "  0%|          | 0/1 [00:00<?, ?it/s]\u001b[A\n",
      "100%|██████████| 1/1 [00:10<00:00, 10.27s/it]\n",
      "\n",
      "  0%|          | 0/1 [00:00<?, ?it/s]\u001b[A\n",
      "100%|██████████| 1/1 [00:10<00:00, 10.35s/it]"
     ]
    },
    {
     "name": "stdout",
     "output_type": "stream",
     "text": [
      "0.29365079365079366\n"
     ]
    },
    {
     "name": "stderr",
     "output_type": "stream",
     "text": [
      "\n"
     ]
    },
    {
     "data": {
      "text/plain": [
       "array([[0.    , 0.0556, 0.1667, 0.    , 0.2778, 0.4444, 0.0556],\n",
       "       [0.    , 0.1667, 0.2222, 0.    , 0.1667, 0.3889, 0.0556],\n",
       "       [0.    , 0.    , 0.1111, 0.    , 0.3333, 0.5   , 0.0556],\n",
       "       [0.    , 0.    , 0.0556, 0.1667, 0.3889, 0.2222, 0.1667],\n",
       "       [0.    , 0.    , 0.1111, 0.1111, 0.6111, 0.1667, 0.    ],\n",
       "       [0.    , 0.    , 0.1111, 0.    , 0.2778, 0.5556, 0.0556],\n",
       "       [0.0556, 0.1111, 0.1111, 0.0556, 0.0556, 0.1667, 0.4444]])"
      ]
     },
     "execution_count": 59,
     "metadata": {},
     "output_type": "execute_result"
    }
   ],
   "source": [
    "preds,true = get_preds(models,best_ensemble_weights,test_private_loader_4)\n",
    "final = [pred for pred in best_optimizer.apply(preds)]\n",
    "print(accuracy_score(true,final))\n",
    "cm = confusion_matrix(true,final)\n",
    "cm = cm/np.sum(cm,1)\n",
    "cm"
   ]
  },
  {
   "cell_type": "code",
   "execution_count": 42,
   "metadata": {},
   "outputs": [],
   "source": []
  },
  {
   "cell_type": "code",
   "execution_count": null,
   "metadata": {},
   "outputs": [],
   "source": []
  }
 ],
 "metadata": {
  "kernelspec": {
   "display_name": "Python 3",
   "language": "python",
   "name": "python3"
  },
  "language_info": {
   "codemirror_mode": {
    "name": "ipython",
    "version": 3
   },
   "file_extension": ".py",
   "mimetype": "text/x-python",
   "name": "python",
   "nbconvert_exporter": "python",
   "pygments_lexer": "ipython3",
   "version": "3.7.1"
  }
 },
 "nbformat": 4,
 "nbformat_minor": 2
}
